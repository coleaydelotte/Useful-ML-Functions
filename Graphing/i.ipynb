{
 "cells": [
  {
   "cell_type": "code",
   "execution_count": 4,
   "metadata": {},
   "outputs": [
    {
     "ename": "TypeError",
     "evalue": "correlate_functions_to_target() takes 0 positional arguments but 2 positional arguments (and 3 keyword-only arguments) were given",
     "output_type": "error",
     "traceback": [
      "\u001b[0;31m---------------------------------------------------------------------------\u001b[0m",
      "\u001b[0;31mTypeError\u001b[0m                                 Traceback (most recent call last)",
      "Cell \u001b[0;32mIn[4], line 42\u001b[0m\n\u001b[1;32m     39\u001b[0m     \u001b[38;5;28;01mreturn\u001b[39;00m subset\u001b[38;5;241m.\u001b[39mcorrwith(data[target])\n\u001b[1;32m     41\u001b[0m data \u001b[38;5;241m=\u001b[39m pd\u001b[38;5;241m.\u001b[39mread_csv(\u001b[38;5;124m'\u001b[39m\u001b[38;5;124mhttps://github.com/ageron/handson-ml2/raw/master/datasets/housing/housing.csv\u001b[39m\u001b[38;5;124m'\u001b[39m)\n\u001b[0;32m---> 42\u001b[0m corr_matrix \u001b[38;5;241m=\u001b[39m \u001b[43mcorrelate_functions_to_target\u001b[49m\u001b[43m(\u001b[49m\u001b[38;5;124;43m\"\u001b[39;49m\u001b[38;5;124;43mmedian_house_value\u001b[39;49m\u001b[38;5;124;43m\"\u001b[39;49m\u001b[43m,\u001b[49m\u001b[43m \u001b[49m\u001b[43mdata\u001b[49m\u001b[43m,\u001b[49m\u001b[43m \u001b[49m\u001b[43mreturn_subset\u001b[49m\u001b[38;5;241;43m=\u001b[39;49m\u001b[38;5;28;43;01mFalse\u001b[39;49;00m\u001b[43m,\u001b[49m\u001b[43m \u001b[49m\u001b[43mdrop_na\u001b[49m\u001b[38;5;241;43m=\u001b[39;49m\u001b[38;5;28;43;01mFalse\u001b[39;49;00m\u001b[43m,\u001b[49m\u001b[43m \u001b[49m\u001b[43mignore_warnings\u001b[49m\u001b[38;5;241;43m=\u001b[39;49m\u001b[38;5;28;43;01mTrue\u001b[39;49;00m\u001b[43m)\u001b[49m\n\u001b[1;32m     43\u001b[0m corr_matrix \u001b[38;5;241m=\u001b[39m corr_matrix\u001b[38;5;241m.\u001b[39mto_frame()\n\u001b[1;32m     44\u001b[0m sns\u001b[38;5;241m.\u001b[39mheatmap(corr_matrix, annot\u001b[38;5;241m=\u001b[39m\u001b[38;5;28;01mTrue\u001b[39;00m)\n",
      "\u001b[0;31mTypeError\u001b[0m: correlate_functions_to_target() takes 0 positional arguments but 2 positional arguments (and 3 keyword-only arguments) were given"
     ]
    }
   ],
   "source": [
    "import numpy as np\n",
    "import pandas as pd\n",
    "import seaborn as sns\n",
    "\n",
    "def correlate_functions_to_target(*, column_name, data, target, return_subset=False, drop_na=False, ignore_warnings=False):\n",
    "    if ignore_warnings:\n",
    "        import warnings\n",
    "        warnings.filterwarnings(\"ignore\")\n",
    "        \n",
    "    subset = pd.DataFrame()\n",
    "    subset[f\"sin_{column_name}\"] = np.sin(data[column_name])\n",
    "    subset[f\"cos_{column_name}\"] = np.cos(data[column_name])\n",
    "    subset[f\"tan_{column_name}\"] = np.tan(data[column_name])\n",
    "    subset[f\"log_{column_name}\"] = np.log(data[column_name])\n",
    "    subset[f\"exp_{column_name}\"] = np.exp(data[column_name])\n",
    "    subset[f\"sqrt_{column_name}\"] = np.sqrt(data[column_name])\n",
    "    subset[f\"log1p_{column_name}\"] = np.log1p(data[column_name])\n",
    "    subset[f\"square_{column_name}\"] = np.square(data[column_name])\n",
    "    subset[f\"reciprocal_{column_name}\"] = np.reciprocal(data[column_name])\n",
    "    subset[f\"abs_{column_name}\"] = np.abs(data[column_name])\n",
    "    subset[f\"sign_{column_name}\"] = np.sign(data[column_name])\n",
    "    subset[f\"arcsin_{column_name}\"] = np.arcsin(data[column_name] / np.max(data[column_name]))\n",
    "    subset[f\"arccos_{column_name}\"] = np.arccos(data[column_name] / np.max(data[column_name]))\n",
    "    subset[f\"arctan_{column_name}\"] = np.arctan(data[column_name])\n",
    "    subset[f\"sinh_{column_name}\"] = np.sinh(data[column_name])\n",
    "    subset[f\"cosh_{column_name}\"] = np.cosh(data[column_name])\n",
    "    subset[f\"tanh_{column_name}\"] = np.tanh(data[column_name])\n",
    "    subset[f\"standardized_{column_name}\"] = (data[column_name] - np.mean(data[column_name])) / np.std(data[column_name])\n",
    "    subset[f\"minmax_{column_name}\"] = (data[column_name] - np.min(data[column_name])) / (np.max(data[column_name]) - np.min(data[column_name]))\n",
    "    subset[f\"rolling_mean_{column_name}\"] = data[column_name].rolling(window=5).mean()\n",
    "    subset[f\"diff_{column_name}\"] = data[column_name].diff()\n",
    "    subset[f\"cumsum_{column_name}\"] = data[column_name].cumsum()\n",
    "    subset[f\"cumprod_{column_name}\"] = data[column_name].cumprod()\n",
    "\n",
    "    if drop_na:\n",
    "        subset = subset.replace([np.inf, -np.inf], np.nan).dropna()\n",
    "    if return_subset:\n",
    "        return subset.corrwith(data[target]), subset\n",
    "    return subset.corrwith(data[target])\n",
    "\n",
    "data = pd.read_csv('https://github.com/ageron/handson-ml2/raw/master/datasets/housing/housing.csv')\n",
    "corr_matrix = correlate_functions_to_target(column_name=\"total_rooms\", data=data, return_subset=False, drop_na=False, ignore_warnings=True)\n",
    "corr_matrix = corr_matrix.to_frame()\n",
    "sns.heatmap(corr_matrix, annot=True)"
   ]
  },
  {
   "cell_type": "code",
   "execution_count": null,
   "metadata": {},
   "outputs": [],
   "source": []
  }
 ],
 "metadata": {
  "kernelspec": {
   "display_name": "Python 3",
   "language": "python",
   "name": "python3"
  },
  "language_info": {
   "codemirror_mode": {
    "name": "ipython",
    "version": 3
   },
   "file_extension": ".py",
   "mimetype": "text/x-python",
   "name": "python",
   "nbconvert_exporter": "python",
   "pygments_lexer": "ipython3",
   "version": "3.12.6"
  }
 },
 "nbformat": 4,
 "nbformat_minor": 2
}
